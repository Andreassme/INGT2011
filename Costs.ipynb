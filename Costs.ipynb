{
 "cells": [
  {
   "cell_type": "code",
   "execution_count": 10,
   "id": "f2d1c8a0",
   "metadata": {},
   "outputs": [
    {
     "name": "stdout",
     "output_type": "stream",
     "text": [
      "Sales price in NOK/kwh:  [1.09720438 1.0972319  1.09725937 ... 1.09712153 1.09714919 1.09717681]\n"
     ]
    }
   ],
   "source": [
    "#Calculating costs \n",
    "\n",
    "import numpy as np\n",
    "import matplotlib.pyplot as plt\n",
    "from scipy import integrate\n",
    "\n",
    "\n",
    "#Defining variables\n",
    "\n",
    "t = np.arange(1, 8761) #Array with time in hours for one year\n",
    "\n",
    "P_electricity = 0.68 + 0.15 * np.cos(((2 * np.pi * t)/8760)- (np.pi/8)) #Electricity price in NOK/kWh\n",
    "\n",
    "P_grid = 0.65 - 0.15 * np.cos((2 * np.pi * t)/ 8760) #Grid fee in NOK/kWh\n",
    "\n",
    "P_sales = np.sqrt((P_electricity)/((np.sum(P_electricity))/8760)) #Sales price in NOK/kWh\n",
    "\n",
    "                  \n",
    "#Task 1 : Calculate net electricity price (sum of electricity price and grid fee), p = [pt=1, pt=2, . . . , pt=8760]\n",
    "\n",
    "p_net_price = P_electricity + P_grid #Net electricity price in NOK/kWh\n",
    "\n",
    "\n",
    "#Task 2 : Calculate sales price p = [pt=1, pt=2, . . . , pt=8760]T\n",
    "\n",
    "p_sales_price = np.sum(P_sales) #Sales price in total\n",
    "\n",
    "print('Sales price in NOK/kwh: ', P_sales)\n",
    "\n",
    "\n",
    "#Task 3 : From the vector of net electricity consumption, use all values >0 along with net \n",
    "# electricity price to calculate annual cost for purchasing electricity for all scenarios and\n",
    "# the two chosen locations\n",
    "\n",
    "net_consumption = 0 #Input array frmo Energy Calculations\n",
    "\n",
    "net_consumption_positive = np.where(net_consumption > 0, net_consumption, 0) #Array with only positive values from net consumption\n",
    "\n",
    "annual_cost = np.sum(net_consumption_positive * p_net_price) #Annual cost in NOK\n",
    "\n",
    "\n",
    "#Task 4 : From the vector of net electricity consumption, use all values <0 along with sales price\n",
    "# to calculate annual income from selling electricity for all scenarios and the two chosen locations\n",
    "\n",
    "net_consumption_negative = np.where(net_consumption < 0, net_consumption, 0) #Array with only negative values from net consumption\n",
    "\n",
    "annual_income = np.sum(net_consumption_negative * p_sales_price) #Annual income in NOK\n",
    "\n",
    "#Task 5 : Use energy savings from installing a heat pump together with the electricity price to\n",
    "# calculate annual cost savings from the installation\n",
    "\n",
    "heat_pump_savings = 0 #Input array from Energy Calculations\n",
    "\n",
    "annual_savings_heat_pump = np.sum(heat_pump_savings * p_net_price) #Annual savings in NOK\n",
    "\n",
    "#Task 6 : Calculate annual savings from the installation of 1 wind turbine using the energy\n",
    "# production and electricity price (assuming no sales of electricity)\n",
    "\n",
    "wind_turbine_production = 0 #Input array from Energy Calculations\n",
    "\n",
    "annual_savings_wind_turbine = np.sum(wind_turbine_production * p_net_price) #Annual savings in NOK\n",
    "\n",
    "#Task 7 : Calculate annual savings from the installation of 10 m² of solar panels using the energy\n",
    "# production and electricity price (assuming no sales of electricity)\n",
    "\n",
    "solar_panel_production = 0 #Input array from Energy Calculations\n",
    "\n",
    "annual_savings_solar_panels = np.sum(solar_panel_production * p_net_price) #Annual savings in NOK\n",
    "\n"
   ]
  }
 ],
 "metadata": {
  "kernelspec": {
   "display_name": "Python 3",
   "language": "python",
   "name": "python3"
  },
  "language_info": {
   "codemirror_mode": {
    "name": "ipython",
    "version": 3
   },
   "file_extension": ".py",
   "mimetype": "text/x-python",
   "name": "python",
   "nbconvert_exporter": "python",
   "pygments_lexer": "ipython3",
   "version": "3.11.9"
  }
 },
 "nbformat": 4,
 "nbformat_minor": 5
}
