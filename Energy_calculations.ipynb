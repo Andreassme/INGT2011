{
 "cells": [
  {
   "cell_type": "code",
   "execution_count": null,
   "id": "a750667b",
   "metadata": {},
   "outputs": [],
   "source": [
    "#Energy calculations\n",
    "\n",
    "import numpy as np\n",
    "import matplotlib.pyplot as plt\n",
    "from scipy import integrate\n",
    "\n",
    "#import arrays from the other scenarios\n",
    "\n",
    "#Task 1 : Create a new script for microgrid calculations. Import vectors for energy consumption\n",
    "# for each of the three scenarios and vectors for electricity production for the solar panel\n",
    "# and wind turbine (load(’varname’);)\n",
    "\n",
    "\n",
    "\n",
    "#Task 2 : Calculate the energy savings by installing a heat pump (the difference between scenario\n",
    "# 1 and 2), E = [Et=1, Et=2, . . . , Et=8760]\n",
    "\n",
    "heat_pump_savings = scenario2 - scenario1\n",
    "\n",
    "\n",
    "#Task 3 : Calculate net electricity production, E+ = [Et=1, Et=2, . . . , Et=8760]\n",
    "\n",
    "net_electricity_production = windTurbine + solarPanels \n",
    "\n",
    "#Task 4 : Calculate net energy consumption (consumption minus own production) for all scenarios and the two chosen locations, E = [E− − E+] = [Et=1, Et=2, . . . , Et=8760]\n",
    "\n",
    "\n",
    "#Task 5 : Over the course of a year, calculate how much energy needs to be purchased in total\n",
    "# (positive net energy consumption).\n",
    "\n",
    "#Task 6 : Over the course of a year, calculate how much energy can be sold in total (positive\n",
    "# net energy consumption)\n",
    "\n",
    "#Task 7 : Given that 10 m² of solar panels and 1 wind turbine each produce the amounts of electricity calculated in\n",
    "# Task 2 and 3.\n",
    "# If you have 0 wind turbines, how many square meters of solar panels are needed to\n",
    "# generate more electricity per year than the total consumption in scenario 3?\n",
    "\n",
    "#Task 8 : If you have 0 m² of solar panels, how many wind turbines are needed to generate more\n",
    "# electricity per year than the total consumption in scenario 3?\n",
    "\n",
    "#Test \n",
    "\n",
    "#test"
   ]
  }
 ],
 "metadata": {
  "language_info": {
   "name": "python"
  }
 },
 "nbformat": 4,
 "nbformat_minor": 5
}
